{
 "cells": [
  {
   "cell_type": "code",
   "execution_count": 1,
   "id": "5c04fa99",
   "metadata": {},
   "outputs": [],
   "source": [
    "# --- 📚 Import Libraries ---\n",
    "\n",
    "import os\n",
    "import time\n",
    "import numpy as np\n",
    "import pandas as pd\n",
    "from tqdm import tqdm\n",
    "import torch\n",
    "import torch.nn as nn\n",
    "from torch.utils.data import Dataset, DataLoader\n",
    "from sklearn.metrics import accuracy_score, confusion_matrix, classification_report\n",
    "import seaborn as sns\n",
    "import matplotlib.pyplot as plt"
   ]
  },
  {
   "cell_type": "code",
   "execution_count": 2,
   "id": "0ede47af",
   "metadata": {},
   "outputs": [],
   "source": [
    "# --- ⚙️ Configuration ---\n",
    "\n",
    "TRAIN_DATA_PATH = \"/Users/anuragde/Documents/project-work/finalsubmission/preprocessed_data/mydata_spectrograms.npy\"\n",
    "TRAIN_LABELS_PATH = \"/Users/anuragde/Documents/project-work/finalsubmission/preprocessed_data/mydata_labels.npy\"\n",
    "VAL_DATA_PATH = \"/Users/anuragde/Documents/project-work/finalsubmission/preprocessed_val_data/myvaldata_spectrograms.npy\"\n",
    "VAL_LABELS_PATH = \"/Users/anuragde/Documents/project-work/finalsubmission/preprocessed_val_data/myvaldata_labels.npy\"\n",
    "MODEL_SAVE_PATH = \"myfullmodel/best_model.pth\"\n",
    "EPOCHS = 50\n",
    "LEARNING_RATE = 0.0001\n",
    "BATCH_SIZE = 32\n",
    "EARLY_STOPPING_PATIENCE = 5"
   ]
  },
  {
   "cell_type": "code",
   "execution_count": 3,
   "id": "f81ff69b",
   "metadata": {},
   "outputs": [],
   "source": [
    "# ---  🎛️ Helper Functions, Dataset, and Model Classes ---\n",
    "\n",
    "def evaluate_model(model, data_loader, device):\n",
    "    \"\"\"Evaluate model accuracy on a data loader\"\"\"\n",
    "    model.eval()\n",
    "    all_preds, all_labels = [], []\n",
    "    \n",
    "    with torch.no_grad():\n",
    "        for spectrograms, labels in data_loader:\n",
    "            spectrograms, labels = spectrograms.to(device), labels.to(device)\n",
    "            spectrograms = spectrograms.unsqueeze(1)\n",
    "            \n",
    "            outputs = model(spectrograms)\n",
    "            _, predicted = torch.max(outputs.data, 1)\n",
    "            \n",
    "            all_preds.extend(predicted.cpu().numpy())\n",
    "            all_labels.extend(labels.cpu().numpy())\n",
    "    \n",
    "    accuracy = accuracy_score(all_labels, all_preds)\n",
    "    return accuracy\n",
    "\n",
    "class SpectrogramDataset(Dataset):\n",
    "    \"\"\"Custom PyTorch Dataset for loading spectrogram NumPy arrays.\"\"\"\n",
    "    def __init__(self, spectrograms, labels):\n",
    "        self.spectrograms = torch.from_numpy(spectrograms)\n",
    "        self.labels = torch.from_numpy(labels).long()\n",
    "\n",
    "    def __len__(self):\n",
    "        return len(self.labels)\n",
    "\n",
    "    def __getitem__(self, idx):\n",
    "        return self.spectrograms[idx], self.labels[idx]\n",
    "\n",
    "class SignalCNN2D(nn.Module):\n",
    "    \"\"\"A 2D Convolutional Neural Network for spectrogram classification.\"\"\"\n",
    "    def __init__(self, input_shape):\n",
    "        super(SignalCNN2D, self).__init__()\n",
    "        c, h, w = input_shape\n",
    "        self.conv_block1 = nn.Sequential(\n",
    "            nn.Conv2d(in_channels=c, out_channels=16, kernel_size=3, stride=1, padding=1),\n",
    "            nn.BatchNorm2d(16), nn.ReLU(), nn.MaxPool2d(kernel_size=2, stride=2))\n",
    "        self.conv_block2 = nn.Sequential(\n",
    "            nn.Conv2d(in_channels=16, out_channels=32, kernel_size=3, stride=1, padding=1),\n",
    "            nn.BatchNorm2d(32), nn.ReLU(), nn.MaxPool2d(kernel_size=2, stride=2))\n",
    "        \n",
    "        flattened_size = self._get_conv_output_size(input_shape)\n",
    "        \n",
    "        self.fc_block = nn.Sequential(\n",
    "            nn.Linear(flattened_size, 128), nn.ReLU(), nn.Dropout(0.5),\n",
    "            nn.Linear(128, 2))\n",
    "\n",
    "    def _get_conv_output_size(self, shape):\n",
    "        with torch.no_grad():\n",
    "            x = torch.zeros(1, *shape)\n",
    "            x = self.conv_block1(x)\n",
    "            x = self.conv_block2(x)\n",
    "            return x.numel()\n",
    "\n",
    "    def forward(self, x):\n",
    "        x = self.conv_block1(x)\n",
    "        x = self.conv_block2(x)\n",
    "        x = x.view(x.size(0), -1)\n",
    "        x = self.fc_block(x)\n",
    "        return x"
   ]
  },
  {
   "cell_type": "code",
   "execution_count": 4,
   "id": "a6cc1ac9",
   "metadata": {},
   "outputs": [
    {
     "name": "stdout",
     "output_type": "stream",
     "text": [
      "--- Using device: mps ---\n",
      "\n",
      "--- Loading Data ---\n",
      "Input shape for model (C, H, W): (1, 129, 153)\n",
      "\n",
      "--- Creating DataLoaders ---\n",
      "\n",
      "--- Calculating Class Weights ---\n",
      "Calculated weights: [1. 1.]\n",
      "\n",
      "--- Initializing Model ---\n",
      "\n",
      "--- Starting Training (will stop early if no improvement after 5 epochs) ---\n"
     ]
    },
    {
     "name": "stderr",
     "output_type": "stream",
     "text": [
      "Epoch 1/50 [Train]: 100%|██████████| 3750/3750 [02:48<00:00, 22.25batch/s, loss=0.0828]\n"
     ]
    },
    {
     "name": "stdout",
     "output_type": "stream",
     "text": [
      "Epoch 1 Summary | Train Loss: 0.0675 | Val Accuracy: 0.8960 | Duration: 174.66s\n",
      "  -> Validation accuracy improved from 0.0000 to 0.8960!\n"
     ]
    },
    {
     "name": "stderr",
     "output_type": "stream",
     "text": [
      "Epoch 2/50 [Train]: 100%|██████████| 3750/3750 [02:25<00:00, 25.77batch/s, loss=0.0057]\n"
     ]
    },
    {
     "name": "stdout",
     "output_type": "stream",
     "text": [
      "Epoch 2 Summary | Train Loss: 0.0300 | Val Accuracy: 0.9231 | Duration: 152.99s\n",
      "  -> Validation accuracy improved from 0.8960 to 0.9231!\n"
     ]
    },
    {
     "name": "stderr",
     "output_type": "stream",
     "text": [
      "Epoch 3/50 [Train]: 100%|██████████| 3750/3750 [02:19<00:00, 26.95batch/s, loss=0.0267]\n"
     ]
    },
    {
     "name": "stdout",
     "output_type": "stream",
     "text": [
      "Epoch 3 Summary | Train Loss: 0.0223 | Val Accuracy: 0.9088 | Duration: 143.20s\n",
      "  -> No improvement in validation accuracy for 1 epoch(s).\n"
     ]
    },
    {
     "name": "stderr",
     "output_type": "stream",
     "text": [
      "Epoch 4/50 [Train]: 100%|██████████| 3750/3750 [02:22<00:00, 26.23batch/s, loss=0.0066]\n"
     ]
    },
    {
     "name": "stdout",
     "output_type": "stream",
     "text": [
      "Epoch 4 Summary | Train Loss: 0.0180 | Val Accuracy: 0.9369 | Duration: 146.81s\n",
      "  -> Validation accuracy improved from 0.9231 to 0.9369!\n"
     ]
    },
    {
     "name": "stderr",
     "output_type": "stream",
     "text": [
      "Epoch 5/50 [Train]: 100%|██████████| 3750/3750 [02:18<00:00, 27.13batch/s, loss=0.0198]\n"
     ]
    },
    {
     "name": "stdout",
     "output_type": "stream",
     "text": [
      "Epoch 5 Summary | Train Loss: 0.0156 | Val Accuracy: 0.9286 | Duration: 142.10s\n",
      "  -> No improvement in validation accuracy for 1 epoch(s).\n"
     ]
    },
    {
     "name": "stderr",
     "output_type": "stream",
     "text": [
      "Epoch 6/50 [Train]: 100%|██████████| 3750/3750 [02:17<00:00, 27.28batch/s, loss=0.0019]\n"
     ]
    },
    {
     "name": "stdout",
     "output_type": "stream",
     "text": [
      "Epoch 6 Summary | Train Loss: 0.0137 | Val Accuracy: 0.9365 | Duration: 141.34s\n",
      "  -> No improvement in validation accuracy for 2 epoch(s).\n"
     ]
    },
    {
     "name": "stderr",
     "output_type": "stream",
     "text": [
      "Epoch 7/50 [Train]: 100%|██████████| 3750/3750 [02:20<00:00, 26.63batch/s, loss=0.0174]\n"
     ]
    },
    {
     "name": "stdout",
     "output_type": "stream",
     "text": [
      "Epoch 7 Summary | Train Loss: 0.0125 | Val Accuracy: 0.9579 | Duration: 144.74s\n",
      "  -> Validation accuracy improved from 0.9369 to 0.9579!\n"
     ]
    },
    {
     "name": "stderr",
     "output_type": "stream",
     "text": [
      "Epoch 8/50 [Train]: 100%|██████████| 3750/3750 [02:20<00:00, 26.78batch/s, loss=0.0082]\n"
     ]
    },
    {
     "name": "stdout",
     "output_type": "stream",
     "text": [
      "Epoch 8 Summary | Train Loss: 0.0111 | Val Accuracy: 0.9446 | Duration: 143.96s\n",
      "  -> No improvement in validation accuracy for 1 epoch(s).\n"
     ]
    },
    {
     "name": "stderr",
     "output_type": "stream",
     "text": [
      "Epoch 9/50 [Train]: 100%|██████████| 3750/3750 [02:18<00:00, 27.15batch/s, loss=0.0002]\n"
     ]
    },
    {
     "name": "stdout",
     "output_type": "stream",
     "text": [
      "Epoch 9 Summary | Train Loss: 0.0106 | Val Accuracy: 0.9448 | Duration: 142.11s\n",
      "  -> No improvement in validation accuracy for 2 epoch(s).\n"
     ]
    },
    {
     "name": "stderr",
     "output_type": "stream",
     "text": [
      "Epoch 10/50 [Train]: 100%|██████████| 3750/3750 [02:18<00:00, 27.16batch/s, loss=0.0001]\n"
     ]
    },
    {
     "name": "stdout",
     "output_type": "stream",
     "text": [
      "Epoch 10 Summary | Train Loss: 0.0098 | Val Accuracy: 0.9287 | Duration: 141.98s\n",
      "  -> No improvement in validation accuracy for 3 epoch(s).\n"
     ]
    },
    {
     "name": "stderr",
     "output_type": "stream",
     "text": [
      "Epoch 11/50 [Train]: 100%|██████████| 3750/3750 [02:18<00:00, 27.15batch/s, loss=0.0032]\n"
     ]
    },
    {
     "name": "stdout",
     "output_type": "stream",
     "text": [
      "Epoch 11 Summary | Train Loss: 0.0088 | Val Accuracy: 0.9369 | Duration: 142.10s\n",
      "  -> No improvement in validation accuracy for 4 epoch(s).\n"
     ]
    },
    {
     "name": "stderr",
     "output_type": "stream",
     "text": [
      "Epoch 12/50 [Train]: 100%|██████████| 3750/3750 [02:18<00:00, 27.06batch/s, loss=0.0220]\n"
     ]
    },
    {
     "name": "stdout",
     "output_type": "stream",
     "text": [
      "Epoch 12 Summary | Train Loss: 0.0093 | Val Accuracy: 0.9297 | Duration: 142.46s\n",
      "  -> No improvement in validation accuracy for 5 epoch(s).\n",
      "\n",
      "Early stopping triggered after 12 epochs.\n",
      "\n",
      "--- Training Complete ---\n",
      "Total Training Time: 29 minutes and 18 seconds\n",
      "\n",
      "Best model (Val Acc: 0.9579) is saved at: 'myfullmodel/model_epoch_7_acc_0.9579.pth'\n",
      "Final model renamed and saved to: 'myfullmodel/best_model.pth'\n"
     ]
    }
   ],
   "source": [
    "# --- 🧠 Training Script ---\n",
    "\n",
    "# --- Set compute device ---\n",
    "device = torch.device(\"mps\" if torch.backends.mps.is_available() else (\"cuda\" if torch.cuda.is_available() else \"cpu\"))\n",
    "print(f\"--- Using device: {device} ---\")\n",
    "\n",
    "# --- Load Data ---\n",
    "print(\"\\n--- Loading Data ---\")\n",
    "train_spectrograms = np.load(TRAIN_DATA_PATH)\n",
    "train_labels = np.load(TRAIN_LABELS_PATH)\n",
    "val_spectrograms = np.load(VAL_DATA_PATH)\n",
    "val_labels = np.load(VAL_LABELS_PATH)\n",
    "\n",
    "H, W = train_spectrograms.shape[1], train_spectrograms.shape[2]\n",
    "input_shape_for_model = (1, H, W)\n",
    "print(f\"Input shape for model (C, H, W): {input_shape_for_model}\")\n",
    "\n",
    "# --- Create DataLoaders ---\n",
    "print(\"\\n--- Creating DataLoaders ---\")\n",
    "train_dataset = SpectrogramDataset(train_spectrograms, train_labels)\n",
    "train_loader = DataLoader(dataset=train_dataset, batch_size=BATCH_SIZE, shuffle=True)\n",
    "val_dataset = SpectrogramDataset(val_spectrograms, val_labels)\n",
    "val_loader = DataLoader(dataset=val_dataset, batch_size=BATCH_SIZE, shuffle=False)\n",
    "\n",
    "# --- Class Weights ---\n",
    "print(\"\\n--- Calculating Class Weights ---\")\n",
    "class_counts = pd.Series(train_labels).value_counts().sort_index()\n",
    "class_weights = None\n",
    "if len(class_counts) == 2:\n",
    "    weight_for_0 = len(train_labels) / (2 * class_counts[0])\n",
    "    weight_for_1 = len(train_labels) / (2 * class_counts[1])\n",
    "    class_weights = torch.tensor([weight_for_0, weight_for_1], dtype=torch.float32).to(device)\n",
    "    print(f\"Calculated weights: {class_weights.cpu().numpy()}\")\n",
    "\n",
    "# --- Initialize Model, Loss, and Optimizer ---\n",
    "print(\"\\n--- Initializing Model ---\")\n",
    "cnn_model = SignalCNN2D(input_shape_for_model).to(device)\n",
    "criterion = nn.CrossEntropyLoss(weight=class_weights)\n",
    "optimizer = torch.optim.Adam(cnn_model.parameters(), lr=LEARNING_RATE)\n",
    "\n",
    "# --- Ensure the save directory exists ---\n",
    "os.makedirs(\"myfullmodel\", exist_ok=True)\n",
    "\n",
    "# --- Main Training Loop ---\n",
    "print(f\"\\n--- Starting Training (will stop early if no improvement after {EARLY_STOPPING_PATIENCE} epochs) ---\")\n",
    "training_history = {'train_loss': [], 'val_accuracy': []}\n",
    "overall_start_time = time.time()\n",
    "\n",
    "# Variables for early stopping\n",
    "best_val_accuracy = 0.0\n",
    "epochs_no_improve = 0\n",
    "best_model_path = \"\"\n",
    "\n",
    "for epoch in range(EPOCHS):\n",
    "    epoch_start_time = time.time()\n",
    "    # Training phase\n",
    "    cnn_model.train()\n",
    "    running_loss = 0.0\n",
    "    train_progress_bar = tqdm(train_loader, desc=f\"Epoch {epoch+1}/{EPOCHS} [Train]\", unit=\"batch\")\n",
    "    for spectrograms, labels in train_progress_bar:\n",
    "        spectrograms, labels = spectrograms.to(device), labels.to(device)\n",
    "        spectrograms = spectrograms.unsqueeze(1)\n",
    "        outputs = cnn_model(spectrograms)\n",
    "        loss = criterion(outputs, labels)\n",
    "        optimizer.zero_grad()\n",
    "        loss.backward()\n",
    "        optimizer.step()\n",
    "        running_loss += loss.item()\n",
    "        train_progress_bar.set_postfix(loss=f\"{loss.item():.4f}\")\n",
    "    avg_train_loss = running_loss / len(train_loader)\n",
    "    \n",
    "    # Validation phase\n",
    "    val_accuracy = evaluate_model(cnn_model, val_loader, device)\n",
    "    training_history['train_loss'].append(avg_train_loss)\n",
    "    training_history['val_accuracy'].append(val_accuracy)\n",
    "    \n",
    "    epoch_duration = time.time() - epoch_start_time\n",
    "    print(f\"Epoch {epoch+1} Summary | Train Loss: {avg_train_loss:.4f} | Val Accuracy: {val_accuracy:.4f} | Duration: {epoch_duration:.2f}s\")\n",
    "\n",
    "    # Checkpointing and Early Stopping Logic\n",
    "    if val_accuracy > best_val_accuracy:\n",
    "        print(f\"  -> Validation accuracy improved from {best_val_accuracy:.4f} to {val_accuracy:.4f}!\")\n",
    "        best_val_accuracy = val_accuracy\n",
    "        epochs_no_improve = 0\n",
    "\n",
    "        # If a previous best model exists, delete it\n",
    "        if os.path.exists(best_model_path):\n",
    "            os.remove(best_model_path)\n",
    "            \n",
    "        # Define a new path and save the current model\n",
    "        new_best_path = os.path.join(\"myfullmodel\", f\"model_epoch_{epoch+1}_acc_{val_accuracy:.4f}.pth\")\n",
    "        torch.save(cnn_model.state_dict(), new_best_path)\n",
    "        \n",
    "        # Update the tracker to the new best model path\n",
    "        best_model_path = new_best_path\n",
    "\n",
    "    else:\n",
    "        epochs_no_improve += 1\n",
    "        print(f\"  -> No improvement in validation accuracy for {epochs_no_improve} epoch(s).\")\n",
    "\n",
    "        if epochs_no_improve >= EARLY_STOPPING_PATIENCE:\n",
    "            print(f\"\\nEarly stopping triggered after {epoch + 1} epochs.\")\n",
    "            break\n",
    "\n",
    "overall_end_time = time.time()\n",
    "total_duration_seconds = overall_end_time - overall_start_time\n",
    "total_mins = int(total_duration_seconds // 60)\n",
    "total_secs = int(total_duration_seconds % 60)\n",
    "\n",
    "print(f\"\\n--- Training Complete ---\")\n",
    "print(f\"Total Training Time: {total_mins} minutes and {total_secs} seconds\")\n",
    "\n",
    "# --- Final Confirmation ---\n",
    "if best_model_path:\n",
    "    print(f\"\\nBest model (Val Acc: {best_val_accuracy:.4f}) is saved at: '{best_model_path}'\")\n",
    "    # Optional: Rename the final best model to a generic name like 'best_model.pth'\n",
    "    os.rename(best_model_path, MODEL_SAVE_PATH)\n",
    "    print(f\"Final model renamed and saved to: '{MODEL_SAVE_PATH}'\")\n",
    "else:\n",
    "    print(\"\\nNo improvement found during training. Model not saved.\")"
   ]
  },
  {
   "cell_type": "code",
   "execution_count": 5,
   "id": "e8753e3c",
   "metadata": {},
   "outputs": [
    {
     "name": "stdout",
     "output_type": "stream",
     "text": [
      "--- Model Architecture ---\n",
      "SignalCNN2D(\n",
      "  (conv_block1): Sequential(\n",
      "    (0): Conv2d(1, 16, kernel_size=(3, 3), stride=(1, 1), padding=(1, 1))\n",
      "    (1): BatchNorm2d(16, eps=1e-05, momentum=0.1, affine=True, track_running_stats=True)\n",
      "    (2): ReLU()\n",
      "    (3): MaxPool2d(kernel_size=2, stride=2, padding=0, dilation=1, ceil_mode=False)\n",
      "  )\n",
      "  (conv_block2): Sequential(\n",
      "    (0): Conv2d(16, 32, kernel_size=(3, 3), stride=(1, 1), padding=(1, 1))\n",
      "    (1): BatchNorm2d(32, eps=1e-05, momentum=0.1, affine=True, track_running_stats=True)\n",
      "    (2): ReLU()\n",
      "    (3): MaxPool2d(kernel_size=2, stride=2, padding=0, dilation=1, ceil_mode=False)\n",
      "  )\n",
      "  (fc_block): Sequential(\n",
      "    (0): Linear(in_features=38912, out_features=128, bias=True)\n",
      "    (1): ReLU()\n",
      "    (2): Dropout(p=0.5, inplace=False)\n",
      "    (3): Linear(in_features=128, out_features=2, bias=True)\n",
      "  )\n",
      ")\n",
      "\n",
      "--- Parameter Count ---\n",
      "Trainable parameters: 4,986,018\n"
     ]
    }
   ],
   "source": [
    "# --- 🤖 Model Analysis ---\n",
    "\n",
    "def get_predictions(model, data_loader, device):\n",
    "    \"\"\"Get model predictions for a given dataset.\"\"\"\n",
    "    model.eval()\n",
    "    all_preds = []\n",
    "    all_labels = []\n",
    "    with torch.no_grad():\n",
    "        for spectrograms, labels in data_loader:\n",
    "            spectrograms, labels = spectrograms.to(device), labels.to(device)\n",
    "            spectrograms = spectrograms.unsqueeze(1)\n",
    "            outputs = model(spectrograms)\n",
    "            _, predicted = torch.max(outputs.data, 1)\n",
    "            all_preds.extend(predicted.cpu().numpy())\n",
    "            all_labels.extend(labels.cpu().numpy())\n",
    "    return all_labels, all_preds\n",
    "\n",
    "# IMPORTANT: The order must match your labels (e.g., if 0 is 'nonhuman' and 1 is 'human')\n",
    "class_names = ['nonhuman', 'human']\n",
    "\n",
    "if not os.path.exists(MODEL_SAVE_PATH):\n",
    "    print(f\"Model file '{MODEL_SAVE_PATH}' not found. Please run the training cell first.\")\n",
    "else:\n",
    "    # --- Load Model and Print Architecture ---\n",
    "    model_to_analyze = SignalCNN2D(input_shape_for_model)\n",
    "    model_to_analyze.load_state_dict(torch.load(MODEL_SAVE_PATH, map_location=device))\n",
    "    model_to_analyze.to(device)\n",
    "    model_to_analyze.eval()\n",
    "\n",
    "    print(\"--- Model Architecture ---\")\n",
    "    print(model_to_analyze)\n",
    "    \n",
    "    # --- Parameter Count ---\n",
    "    print(\"\\n--- Parameter Count ---\")\n",
    "    trainable_params = sum(p.numel() for p in model_to_analyze.parameters() if p.requires_grad)\n",
    "    print(f\"Trainable parameters: {trainable_params:,}\")"
   ]
  },
  {
   "cell_type": "code",
   "execution_count": 6,
   "id": "bdd76360",
   "metadata": {},
   "outputs": [
    {
     "name": "stdout",
     "output_type": "stream",
     "text": [
      "Overall Validation Accuracy: 95.79%\n",
      "\n",
      "--- Classification Report ---\n",
      "              precision    recall  f1-score   support\n",
      "\n",
      "    nonhuman       0.99      0.93      0.96      6000\n",
      "       human       0.93      0.99      0.96      6000\n",
      "\n",
      "    accuracy                           0.96     12000\n",
      "   macro avg       0.96      0.96      0.96     12000\n",
      "weighted avg       0.96      0.96      0.96     12000\n",
      "\n",
      "\n",
      "--- Confusion Matrix ---\n"
     ]
    },
    {
     "data": {
      "image/png": "[encoded data removed]",
      "text/plain": [
       "<Figure size 800x600 with 2 Axes>"
      ]
     },
     "metadata": {},
     "output_type": "display_data"
    }
   ],
   "source": [
    "# ---  📊 Performance Metrics on Validation Set ---\n",
    "\n",
    "# Get predictions using the validation loader\n",
    "true_labels, predicted_labels = get_predictions(model_to_analyze, val_loader, device)\n",
    "\n",
    "# Calculate and print overall accuracy as a percentage\n",
    "accuracy = accuracy_score(true_labels, predicted_labels)\n",
    "print(f\"Overall Validation Accuracy: {accuracy * 100:.2f}%\")\n",
    "    \n",
    "# Classification Report\n",
    "print(\"\\n--- Classification Report ---\")\n",
    "report = classification_report(true_labels, predicted_labels, target_names=class_names)\n",
    "print(report)\n",
    "    \n",
    "# Confusion Matrix\n",
    "print(\"\\n--- Confusion Matrix ---\")\n",
    "cm = confusion_matrix(true_labels, predicted_labels)\n",
    "plt.figure(figsize=(8, 6))\n",
    "sns.heatmap(cm, annot=True, fmt='d', cmap='Blues', \n",
    "            xticklabels=class_names, \n",
    "            yticklabels=class_names)\n",
    "plt.xlabel('Predicted Label')\n",
    "plt.ylabel('True Label')\n",
    "plt.title('Confusion Matrix')\n",
    "plt.show()"
   ]
  }
 ],
 "metadata": {
  "kernelspec": {
   "display_name": "Python 3",
   "language": "python",
   "name": "python3"
  },
  "language_info": {
   "codemirror_mode": {
    "name": "ipython",
    "version": 3
   },
   "file_extension": ".py",
   "mimetype": "text/x-python",
   "name": "python",
   "nbconvert_exporter": "python",
   "pygments_lexer": "ipython3",
   "version": "3.13.5"
  }
 },
 "nbformat": 4,
 "nbformat_minor": 5
}

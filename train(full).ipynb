{
 "cells": [
  {
   "cell_type": "code",
   "execution_count": 1,
   "id": "5c04fa99",
   "metadata": {},
   "outputs": [],
   "source": [
    "# Import necessary libraries\n",
    "import os\n",
    "import time\n",
    "import numpy as np\n",
    "import pandas as pd\n",
    "from tqdm import tqdm\n",
    "import torch\n",
    "import torch.nn as nn\n",
    "from torch.utils.data import Dataset, DataLoader\n",
    "from sklearn.metrics import accuracy_score, confusion_matrix, classification_report\n",
    "import seaborn as sns\n",
    "import matplotlib.pyplot as plt"
   ]
  },
  {
   "cell_type": "code",
   "execution_count": 2,
   "id": "0ede47af",
   "metadata": {},
   "outputs": [],
   "source": [
    "# --- ⚙️ Configuration ---\n",
    "\n",
    "TRAIN_DATA_PATH = \"/Users/anuragde/Documents/project-work/finalsubmission/preprocessed_data/mydata_spectrograms.npy\"\n",
    "TRAIN_LABELS_PATH = \"/Users/anuragde/Documents/project-work/finalsubmission/preprocessed_data/mydata_labels.npy\"\n",
    "VAL_DATA_PATH = \"/Users/anuragde/Documents/project-work/finalsubmission/preprocessed_val_data/myvaldata_spectrograms.npy\"\n",
    "VAL_LABELS_PATH = \"/Users/anuragde/Documents/project-work/finalsubmission/preprocessed_val_data/myvaldata_labels.npy\"\n",
    "MODEL_SAVE_PATH = \"myfullmodel/best_model.pth\"\n",
    "EPOCHS = 50\n",
    "LEARNING_RATE = 0.0001\n",
    "BATCH_SIZE = 32\n",
    "EARLY_STOPPING_PATIENCE = 5"
   ]
  },
  {
   "cell_type": "code",
   "execution_count": 3,
   "id": "f81ff69b",
   "metadata": {},
   "outputs": [],
   "source": [
    "# ---  🎛️ Helper Functions, Dataset, and Model Classes ---\n",
    "\n",
    "def evaluate_model(model, data_loader, device):\n",
    "    \"\"\"Evaluate model accuracy on a data loader\"\"\"\n",
    "    model.eval()\n",
    "    all_preds, all_labels = [], []\n",
    "    \n",
    "    with torch.no_grad():\n",
    "        for spectrograms, labels in data_loader:\n",
    "            spectrograms, labels = spectrograms.to(device), labels.to(device)\n",
    "            spectrograms = spectrograms.unsqueeze(1)\n",
    "            \n",
    "            outputs = model(spectrograms)\n",
    "            _, predicted = torch.max(outputs.data, 1)\n",
    "            \n",
    "            all_preds.extend(predicted.cpu().numpy())\n",
    "            all_labels.extend(labels.cpu().numpy())\n",
    "    \n",
    "    accuracy = accuracy_score(all_labels, all_preds)\n",
    "    return accuracy\n",
    "\n",
    "class SpectrogramDataset(Dataset):\n",
    "    \"\"\"Custom PyTorch Dataset for loading spectrogram NumPy arrays.\"\"\"\n",
    "    def __init__(self, spectrograms, labels):\n",
    "        self.spectrograms = torch.from_numpy(spectrograms)\n",
    "        self.labels = torch.from_numpy(labels).long()\n",
    "\n",
    "    def __len__(self):\n",
    "        return len(self.labels)\n",
    "\n",
    "    def __getitem__(self, idx):\n",
    "        return self.spectrograms[idx], self.labels[idx]\n",
    "\n",
    "class SignalCNN2D(nn.Module):\n",
    "    \"\"\"A 2D Convolutional Neural Network for spectrogram classification.\"\"\"\n",
    "    def __init__(self, input_shape):\n",
    "        super(SignalCNN2D, self).__init__()\n",
    "        c, h, w = input_shape\n",
    "        self.conv_block1 = nn.Sequential(\n",
    "            nn.Conv2d(in_channels=c, out_channels=16, kernel_size=3, stride=1, padding=1),\n",
    "            nn.BatchNorm2d(16), nn.ReLU(), nn.MaxPool2d(kernel_size=2, stride=2))\n",
    "        self.conv_block2 = nn.Sequential(\n",
    "            nn.Conv2d(in_channels=16, out_channels=32, kernel_size=3, stride=1, padding=1),\n",
    "            nn.BatchNorm2d(32), nn.ReLU(), nn.MaxPool2d(kernel_size=2, stride=2))\n",
    "        \n",
    "        flattened_size = self._get_conv_output_size(input_shape)\n",
    "        \n",
    "        self.fc_block = nn.Sequential(\n",
    "            nn.Linear(flattened_size, 128), nn.ReLU(), nn.Dropout(0.5),\n",
    "            nn.Linear(128, 2))\n",
    "\n",
    "    def _get_conv_output_size(self, shape):\n",
    "        with torch.no_grad():\n",
    "            x = torch.zeros(1, *shape)\n",
    "            x = self.conv_block1(x)\n",
    "            x = self.conv_block2(x)\n",
    "            return x.numel()\n",
    "\n",
    "    def forward(self, x):\n",
    "        x = self.conv_block1(x)\n",
    "        x = self.conv_block2(x)\n",
    "        x = x.view(x.size(0), -1)\n",
    "        x = self.fc_block(x)\n",
    "        return x"
   ]
  },
  {
   "cell_type": "code",
   "execution_count": 4,
   "id": "a6cc1ac9",
   "metadata": {},
   "outputs": [
    {
     "name": "stdout",
     "output_type": "stream",
     "text": [
      "--- Using device: mps ---\n",
      "\n",
      "--- Loading Data ---\n",
      "Input shape for model (C, H, W): (1, 129, 153)\n",
      "\n",
      "--- Creating DataLoaders ---\n",
      "\n",
      "--- Calculating Class Weights ---\n",
      "Calculated weights: [1. 1.]\n",
      "\n",
      "--- Initializing Model ---\n",
      "\n",
      "--- Starting Training (will stop early if no improvement after 5 epochs) ---\n"
     ]
    },
    {
     "name": "stderr",
     "output_type": "stream",
     "text": [
      "Epoch 1/50 [Train]: 100%|██████████| 3750/3750 [02:22<00:00, 26.24batch/s, loss=0.0054]\n"
     ]
    },
    {
     "name": "stdout",
     "output_type": "stream",
     "text": [
      "Epoch 1 Summary | Train Loss: 0.0626 | Val Accuracy: 0.9302 | Duration: 146.74s\n",
      "  -> Validation accuracy improved to 0.9302!\n"
     ]
    },
    {
     "name": "stderr",
     "output_type": "stream",
     "text": [
      "Epoch 2/50 [Train]: 100%|██████████| 3750/3750 [02:16<00:00, 27.57batch/s, loss=0.0015]\n"
     ]
    },
    {
     "name": "stdout",
     "output_type": "stream",
     "text": [
      "Epoch 2 Summary | Train Loss: 0.0279 | Val Accuracy: 0.9447 | Duration: 139.84s\n",
      "  -> Validation accuracy improved to 0.9447!\n"
     ]
    },
    {
     "name": "stderr",
     "output_type": "stream",
     "text": [
      "Epoch 3/50 [Train]: 100%|██████████| 3750/3750 [02:17<00:00, 27.18batch/s, loss=0.0369]\n"
     ]
    },
    {
     "name": "stdout",
     "output_type": "stream",
     "text": [
      "Epoch 3 Summary | Train Loss: 0.0208 | Val Accuracy: 0.9396 | Duration: 141.87s\n",
      "  -> No improvement in validation accuracy for 1 epoch(s).\n"
     ]
    },
    {
     "name": "stderr",
     "output_type": "stream",
     "text": [
      "Epoch 4/50 [Train]: 100%|██████████| 3750/3750 [02:15<00:00, 27.67batch/s, loss=0.0476]\n"
     ]
    },
    {
     "name": "stdout",
     "output_type": "stream",
     "text": [
      "Epoch 4 Summary | Train Loss: 0.0166 | Val Accuracy: 0.9364 | Duration: 138.95s\n",
      "  -> No improvement in validation accuracy for 2 epoch(s).\n"
     ]
    },
    {
     "name": "stderr",
     "output_type": "stream",
     "text": [
      "Epoch 5/50 [Train]: 100%|██████████| 3750/3750 [02:17<00:00, 27.20batch/s, loss=0.0069]\n"
     ]
    },
    {
     "name": "stdout",
     "output_type": "stream",
     "text": [
      "Epoch 5 Summary | Train Loss: 0.0143 | Val Accuracy: 0.9564 | Duration: 141.75s\n",
      "  -> Validation accuracy improved to 0.9564!\n"
     ]
    },
    {
     "name": "stderr",
     "output_type": "stream",
     "text": [
      "Epoch 6/50 [Train]: 100%|██████████| 3750/3750 [02:15<00:00, 27.58batch/s, loss=0.0255]\n"
     ]
    },
    {
     "name": "stdout",
     "output_type": "stream",
     "text": [
      "Epoch 6 Summary | Train Loss: 0.0134 | Val Accuracy: 0.9070 | Duration: 139.95s\n",
      "  -> No improvement in validation accuracy for 1 epoch(s).\n"
     ]
    },
    {
     "name": "stderr",
     "output_type": "stream",
     "text": [
      "Epoch 7/50 [Train]: 100%|██████████| 3750/3750 [02:18<00:00, 27.06batch/s, loss=0.0043]\n"
     ]
    },
    {
     "name": "stdout",
     "output_type": "stream",
     "text": [
      "Epoch 7 Summary | Train Loss: 0.0121 | Val Accuracy: 0.9313 | Duration: 142.47s\n",
      "  -> No improvement in validation accuracy for 2 epoch(s).\n"
     ]
    },
    {
     "name": "stderr",
     "output_type": "stream",
     "text": [
      "Epoch 8/50 [Train]: 100%|██████████| 3750/3750 [02:18<00:00, 27.03batch/s, loss=0.0003]\n"
     ]
    },
    {
     "name": "stdout",
     "output_type": "stream",
     "text": [
      "Epoch 8 Summary | Train Loss: 0.0114 | Val Accuracy: 0.9432 | Duration: 142.70s\n",
      "  -> No improvement in validation accuracy for 3 epoch(s).\n"
     ]
    },
    {
     "name": "stderr",
     "output_type": "stream",
     "text": [
      "Epoch 9/50 [Train]: 100%|██████████| 3750/3750 [02:17<00:00, 27.26batch/s, loss=0.0068]\n"
     ]
    },
    {
     "name": "stdout",
     "output_type": "stream",
     "text": [
      "Epoch 9 Summary | Train Loss: 0.0097 | Val Accuracy: 0.9459 | Duration: 141.48s\n",
      "  -> No improvement in validation accuracy for 4 epoch(s).\n"
     ]
    },
    {
     "name": "stderr",
     "output_type": "stream",
     "text": [
      "Epoch 10/50 [Train]: 100%|██████████| 3750/3750 [02:16<00:00, 27.42batch/s, loss=0.0000]\n"
     ]
    },
    {
     "name": "stdout",
     "output_type": "stream",
     "text": [
      "Epoch 10 Summary | Train Loss: 0.0099 | Val Accuracy: 0.9378 | Duration: 140.72s\n",
      "  -> No improvement in validation accuracy for 5 epoch(s).\n",
      "\n",
      "Early stopping triggered after 10 epochs.\n",
      "\n",
      "--- Training Complete ---\n",
      "Total Training Time: 23 minutes and 36 seconds\n",
      "\n",
      "Best model (Val Acc: 0.9564) saved to 'myfullmodel/best_model.pth'\n"
     ]
    }
   ],
   "source": [
    "# --- ▶️ Training Script ---\n",
    "\n",
    "# --- Set compute device ---\n",
    "device = torch.device(\"mps\" if torch.backends.mps.is_available() else (\"cuda\" if torch.cuda.is_available() else \"cpu\"))\n",
    "print(f\"--- Using device: {device} ---\")\n",
    "\n",
    "# --- Load Data ---\n",
    "print(\"\\n--- Loading Data ---\")\n",
    "train_spectrograms = np.load(TRAIN_DATA_PATH)\n",
    "train_labels = np.load(TRAIN_LABELS_PATH)\n",
    "val_spectrograms = np.load(VAL_DATA_PATH)\n",
    "val_labels = np.load(VAL_LABELS_PATH)\n",
    "\n",
    "H, W = train_spectrograms.shape[1], train_spectrograms.shape[2]\n",
    "input_shape_for_model = (1, H, W)\n",
    "print(f\"Input shape for model (C, H, W): {input_shape_for_model}\")\n",
    "\n",
    "# --- Create DataLoaders ---\n",
    "print(\"\\n--- Creating DataLoaders ---\")\n",
    "train_dataset = SpectrogramDataset(train_spectrograms, train_labels)\n",
    "train_loader = DataLoader(dataset=train_dataset, batch_size=BATCH_SIZE, shuffle=True)\n",
    "val_dataset = SpectrogramDataset(val_spectrograms, val_labels)\n",
    "val_loader = DataLoader(dataset=val_dataset, batch_size=BATCH_SIZE, shuffle=False)\n",
    "\n",
    "# --- Class Weights ---\n",
    "print(\"\\n--- Calculating Class Weights ---\")\n",
    "class_counts = pd.Series(train_labels).value_counts().sort_index()\n",
    "class_weights = None\n",
    "if len(class_counts) == 2:\n",
    "    weight_for_0 = len(train_labels) / (2 * class_counts[0])\n",
    "    weight_for_1 = len(train_labels) / (2 * class_counts[1])\n",
    "    class_weights = torch.tensor([weight_for_0, weight_for_1], dtype=torch.float32).to(device)\n",
    "    print(f\"Calculated weights: {class_weights.cpu().numpy()}\")\n",
    "\n",
    "# --- Initialize Model, Loss, and Optimizer ---\n",
    "print(\"\\n--- Initializing Model ---\")\n",
    "cnn_model = SignalCNN2D(input_shape_for_model).to(device)\n",
    "criterion = nn.CrossEntropyLoss(weight=class_weights)\n",
    "optimizer = torch.optim.Adam(cnn_model.parameters(), lr=LEARNING_RATE)\n",
    "\n",
    "# --- Ensure the save directory exists ---\n",
    "os.makedirs(\"myfullmodel\", exist_ok=True)\n",
    "\n",
    "# --- Main Training Loop ---\n",
    "print(f\"\\n--- Starting Training (will stop early if no improvement after {EARLY_STOPPING_PATIENCE} epochs) ---\")\n",
    "training_history = {'train_loss': [], 'val_accuracy': []}\n",
    "overall_start_time = time.time()\n",
    "\n",
    "# Variables for early stopping\n",
    "best_val_accuracy = 0.0\n",
    "epochs_no_improve = 0\n",
    "best_model_state = None\n",
    "\n",
    "for epoch in range(EPOCHS):\n",
    "    epoch_start_time = time.time()\n",
    "    # Training phase\n",
    "    cnn_model.train()\n",
    "    running_loss = 0.0\n",
    "    train_progress_bar = tqdm(train_loader, desc=f\"Epoch {epoch+1}/{EPOCHS} [Train]\", unit=\"batch\")\n",
    "    for spectrograms, labels in train_progress_bar:\n",
    "        spectrograms, labels = spectrograms.to(device), labels.to(device)\n",
    "        spectrograms = spectrograms.unsqueeze(1)\n",
    "        outputs = cnn_model(spectrograms)\n",
    "        loss = criterion(outputs, labels)\n",
    "        optimizer.zero_grad()\n",
    "        loss.backward()\n",
    "        optimizer.step()\n",
    "        running_loss += loss.item()\n",
    "        train_progress_bar.set_postfix(loss=f\"{loss.item():.4f}\")\n",
    "    avg_train_loss = running_loss / len(train_loader)\n",
    "    \n",
    "    # Validation phase\n",
    "    val_accuracy = evaluate_model(cnn_model, val_loader, device)\n",
    "    training_history['train_loss'].append(avg_train_loss)\n",
    "    training_history['val_accuracy'].append(val_accuracy)\n",
    "    \n",
    "    epoch_duration = time.time() - epoch_start_time\n",
    "    print(f\"Epoch {epoch+1} Summary | Train Loss: {avg_train_loss:.4f} | Val Accuracy: {val_accuracy:.4f} | Duration: {epoch_duration:.2f}s\")\n",
    "\n",
    "    # Early stopping logic\n",
    "    if val_accuracy > best_val_accuracy:\n",
    "        best_val_accuracy = val_accuracy\n",
    "        epochs_no_improve = 0\n",
    "        best_model_state = cnn_model.state_dict().copy()\n",
    "        print(f\"  -> Validation accuracy improved to {best_val_accuracy:.4f}!\")\n",
    "    else:\n",
    "        epochs_no_improve += 1\n",
    "        print(f\"  -> No improvement in validation accuracy for {epochs_no_improve} epoch(s).\")\n",
    "\n",
    "    if epochs_no_improve >= EARLY_STOPPING_PATIENCE:\n",
    "        print(f\"\\nEarly stopping triggered after {epoch + 1} epochs.\")\n",
    "        break\n",
    "\n",
    "overall_end_time = time.time()\n",
    "total_duration_seconds = overall_end_time - overall_start_time\n",
    "total_mins = int(total_duration_seconds // 60)\n",
    "total_secs = int(total_duration_seconds % 60)\n",
    "\n",
    "print(f\"\\n--- Training Complete ---\")\n",
    "print(f\"Total Training Time: {total_mins} minutes and {total_secs} seconds\")\n",
    "\n",
    "# --- Save THE BEST Model and History ---\n",
    "if best_model_state:\n",
    "    torch.save(best_model_state, MODEL_SAVE_PATH)\n",
    "    print(f\"\\nBest model (Val Acc: {best_val_accuracy:.4f}) saved to '{MODEL_SAVE_PATH}'\")\n",
    "else:\n",
    "    print(\"\\nNo improvement found. Model not saved.\")"
   ]
  },
  {
   "cell_type": "code",
   "execution_count": 5,
   "id": "e8753e3c",
   "metadata": {},
   "outputs": [
    {
     "name": "stdout",
     "output_type": "stream",
     "text": [
      "--- Model Architecture ---\n",
      "SignalCNN2D(\n",
      "  (conv_block1): Sequential(\n",
      "    (0): Conv2d(1, 16, kernel_size=(3, 3), stride=(1, 1), padding=(1, 1))\n",
      "    (1): BatchNorm2d(16, eps=1e-05, momentum=0.1, affine=True, track_running_stats=True)\n",
      "    (2): ReLU()\n",
      "    (3): MaxPool2d(kernel_size=2, stride=2, padding=0, dilation=1, ceil_mode=False)\n",
      "  )\n",
      "  (conv_block2): Sequential(\n",
      "    (0): Conv2d(16, 32, kernel_size=(3, 3), stride=(1, 1), padding=(1, 1))\n",
      "    (1): BatchNorm2d(32, eps=1e-05, momentum=0.1, affine=True, track_running_stats=True)\n",
      "    (2): ReLU()\n",
      "    (3): MaxPool2d(kernel_size=2, stride=2, padding=0, dilation=1, ceil_mode=False)\n",
      "  )\n",
      "  (fc_block): Sequential(\n",
      "    (0): Linear(in_features=38912, out_features=128, bias=True)\n",
      "    (1): ReLU()\n",
      "    (2): Dropout(p=0.5, inplace=False)\n",
      "    (3): Linear(in_features=128, out_features=2, bias=True)\n",
      "  )\n",
      ")\n",
      "\n",
      "--- Parameter Count ---\n",
      "Trainable parameters: 4,986,018\n"
     ]
    }
   ],
   "source": [
    "# --- 🤖 Model Analysis ---\n",
    "\n",
    "def get_predictions(model, data_loader, device):\n",
    "    \"\"\"Get model predictions for a given dataset.\"\"\"\n",
    "    model.eval()\n",
    "    all_preds = []\n",
    "    all_labels = []\n",
    "    with torch.no_grad():\n",
    "        for spectrograms, labels in data_loader:\n",
    "            spectrograms, labels = spectrograms.to(device), labels.to(device)\n",
    "            spectrograms = spectrograms.unsqueeze(1)\n",
    "            outputs = model(spectrograms)\n",
    "            _, predicted = torch.max(outputs.data, 1)\n",
    "            all_preds.extend(predicted.cpu().numpy())\n",
    "            all_labels.extend(labels.cpu().numpy())\n",
    "    return all_labels, all_preds\n",
    "\n",
    "# IMPORTANT: The order must match your labels (e.g., if 0 is 'nonhuman' and 1 is 'human')\n",
    "class_names = ['nonhuman', 'human']\n",
    "\n",
    "if not os.path.exists(MODEL_SAVE_PATH):\n",
    "    print(f\"Model file '{MODEL_SAVE_PATH}' not found. Please run the training cell first.\")\n",
    "else:\n",
    "    # --- Load Model and Print Architecture ---\n",
    "    model_to_analyze = SignalCNN2D(input_shape_for_model)\n",
    "    model_to_analyze.load_state_dict(torch.load(MODEL_SAVE_PATH, map_location=device))\n",
    "    model_to_analyze.to(device)\n",
    "    model_to_analyze.eval()\n",
    "\n",
    "    print(\"--- Model Architecture ---\")\n",
    "    print(model_to_analyze)\n",
    "    \n",
    "    # --- Parameter Count ---\n",
    "    print(\"\\n--- Parameter Count ---\")\n",
    "    trainable_params = sum(p.numel() for p in model_to_analyze.parameters() if p.requires_grad)\n",
    "    print(f\"Trainable parameters: {trainable_params:,}\")"
   ]
  },
  {
   "cell_type": "code",
   "execution_count": 6,
   "id": "bdd76360",
   "metadata": {},
   "outputs": [
    {
     "name": "stdout",
     "output_type": "stream",
     "text": [
      "Overall Validation Accuracy: 93.78%\n",
      "\n",
      "--- Classification Report ---\n",
      "              precision    recall  f1-score   support\n",
      "\n",
      "    nonhuman       0.95      0.92      0.94      6000\n",
      "       human       0.92      0.95      0.94      6000\n",
      "\n",
      "    accuracy                           0.94     12000\n",
      "   macro avg       0.94      0.94      0.94     12000\n",
      "weighted avg       0.94      0.94      0.94     12000\n",
      "\n",
      "\n",
      "--- Confusion Matrix ---\n"
     ]
    },
    {
     "data": {
      "image/png": "[encoded data removed]",
      "text/plain": [
       "<Figure size 800x600 with 2 Axes>"
      ]
     },
     "metadata": {},
     "output_type": "display_data"
    }
   ],
   "source": [
    "# ---  📊 Performance Metrics on Validation Set ---\n",
    "\n",
    "# Get predictions using the validation loader\n",
    "true_labels, predicted_labels = get_predictions(model_to_analyze, val_loader, device)\n",
    "\n",
    "# Calculate and print overall accuracy as a percentage\n",
    "accuracy = accuracy_score(true_labels, predicted_labels)\n",
    "print(f\"Overall Validation Accuracy: {accuracy * 100:.2f}%\")\n",
    "    \n",
    "# Classification Report\n",
    "print(\"\\n--- Classification Report ---\")\n",
    "report = classification_report(true_labels, predicted_labels, target_names=class_names)\n",
    "print(report)\n",
    "    \n",
    "# Confusion Matrix\n",
    "print(\"\\n--- Confusion Matrix ---\")\n",
    "cm = confusion_matrix(true_labels, predicted_labels)\n",
    "plt.figure(figsize=(8, 6))\n",
    "sns.heatmap(cm, annot=True, fmt='d', cmap='Blues', \n",
    "            xticklabels=class_names, \n",
    "            yticklabels=class_names)\n",
    "plt.xlabel('Predicted Label')\n",
    "plt.ylabel('True Label')\n",
    "plt.title('Confusion Matrix')\n",
    "plt.show()"
   ]
  }
 ],
 "metadata": {
  "kernelspec": {
   "display_name": "Python 3",
   "language": "python",
   "name": "python3"
  },
  "language_info": {
   "codemirror_mode": {
    "name": "ipython",
    "version": 3
   },
   "file_extension": ".py",
   "mimetype": "text/x-python",
   "name": "python",
   "nbconvert_exporter": "python",
   "pygments_lexer": "ipython3",
   "version": "3.13.5"
  }
 },
 "nbformat": 4,
 "nbformat_minor": 5
}
